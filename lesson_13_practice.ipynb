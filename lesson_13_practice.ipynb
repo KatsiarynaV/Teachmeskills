{
 "cells": [
  {
   "cell_type": "markdown",
   "metadata": {},
   "source": [
    "ЗАДАНИЯ С БАЗОЙ ДАННЫХ:\n",
    "1. Вытащите данные и найдите средний возраст клиентов из Минска\n",
    "2. Выведите список всех клиентов с балансом больше 1000\n",
    "3. Подсчитайте количество транзакций по каждому типу\n",
    "4. Определите клиентов с наибольшими расходами (отрицательные суммы транзакций)\n",
    "5. Топ-3 клиента по количеству транзакций\n",
    "6. Выявление подозрительных операций, операции > n% от баланса\n",
    "\n",
    "ЗАДАНИЯ С API:\n",
    "1. Количество капсул каждого типа\n",
    "2. Среднее время между первым и последним запуском\n",
    "3. Капсулы без информации о запуске\n",
    "4. Сравнение Dragon 1.0 и Dragon 1.1. Среднее кол-во повторного использования, среднее кол-во посадок"
   ]
  },
  {
   "cell_type": "code",
   "execution_count": 2,
   "metadata": {},
   "outputs": [],
   "source": [
    "import pandas as pd\n",
    "import sqlite3 \n",
    "import requests"
   ]
  },
  {
   "cell_type": "markdown",
   "metadata": {},
   "source": [
    "База данных\n",
    "\n",
    "Средний возраст клиентов из Минска"
   ]
  },
  {
   "cell_type": "code",
   "execution_count": 9,
   "metadata": {},
   "outputs": [
    {
     "name": "stdout",
     "output_type": "stream",
     "text": [
      "31.5\n"
     ]
    }
   ],
   "source": [
    "with sqlite3.connect('database.db') as conn:\n",
    "    df = pd.read_sql('SELECT * FROM main.clients', conn)\n",
    "\n",
    "minsk_clients = df[df['city'] == 'Минск']\n",
    "average_age = minsk_clients['age'].mean()\n",
    "print(average_age)"
   ]
  },
  {
   "cell_type": "markdown",
   "metadata": {},
   "source": [
    "Список клиентов с балансом > 1000"
   ]
  },
  {
   "cell_type": "code",
   "execution_count": 10,
   "metadata": {},
   "outputs": [
    {
     "name": "stdout",
     "output_type": "stream",
     "text": [
      "   client_id  amount\n",
      "1          2    1500\n",
      "3          4    2000\n",
      "4          5    1200\n"
     ]
    }
   ],
   "source": [
    "with sqlite3.connect('database.db') as conn:\n",
    "    df = pd.read_sql('SELECT * FROM main.balance', conn)\n",
    "\n",
    "high_balance = df[df['amount'] > 1000]\n",
    "print(high_balance)"
   ]
  },
  {
   "cell_type": "markdown",
   "metadata": {},
   "source": [
    "Количество транзакций по типу"
   ]
  },
  {
   "cell_type": "code",
   "execution_count": 12,
   "metadata": {},
   "outputs": [
    {
     "name": "stdout",
     "output_type": "stream",
     "text": [
      "type\n",
      "deposit       5\n",
      "withdrawal    5\n",
      "Name: count, dtype: int64\n"
     ]
    }
   ],
   "source": [
    "with sqlite3.connect('database.db') as conn:\n",
    "    df = pd.read_sql('SELECT * FROM main.transactions', conn)\n",
    "\n",
    "transactions = df['type'].value_counts()\n",
    "print(transactions)"
   ]
  },
  {
   "cell_type": "markdown",
   "metadata": {},
   "source": [
    "API \n",
    "\n",
    "Количество капсул каждого типа"
   ]
  },
  {
   "cell_type": "code",
   "execution_count": 14,
   "metadata": {},
   "outputs": [
    {
     "name": "stdout",
     "output_type": "stream",
     "text": [
      "type\n",
      "Dragon 1.1    9\n",
      "Dragon 2.0    6\n",
      "Dragon 1.0    4\n",
      "Name: count, dtype: int64\n"
     ]
    }
   ],
   "source": [
    "with requests.Session() as session:\n",
    "    response = session.get(\"https://api.spacexdata.com/v3/capsules\")\n",
    "\n",
    "df = pd.DataFrame(response.json())\n",
    "\n",
    "capsules_types = df['type'].value_counts()\n",
    "print(capsules_types)\n",
    "\n",
    "\n"
   ]
  },
  {
   "cell_type": "markdown",
   "metadata": {},
   "source": [
    "Капсулы без информации о запуске"
   ]
  },
  {
   "cell_type": "code",
   "execution_count": 6,
   "metadata": {},
   "outputs": [
    {
     "data": {
      "text/html": [
       "<div>\n",
       "<style scoped>\n",
       "    .dataframe tbody tr th:only-of-type {\n",
       "        vertical-align: middle;\n",
       "    }\n",
       "\n",
       "    .dataframe tbody tr th {\n",
       "        vertical-align: top;\n",
       "    }\n",
       "\n",
       "    .dataframe thead th {\n",
       "        text-align: right;\n",
       "    }\n",
       "</style>\n",
       "<table border=\"1\" class=\"dataframe\">\n",
       "  <thead>\n",
       "    <tr style=\"text-align: right;\">\n",
       "      <th></th>\n",
       "      <th>capsule_serial</th>\n",
       "      <th>capsule_id</th>\n",
       "      <th>status</th>\n",
       "      <th>original_launch</th>\n",
       "      <th>original_launch_unix</th>\n",
       "      <th>missions</th>\n",
       "      <th>landings</th>\n",
       "      <th>type</th>\n",
       "      <th>details</th>\n",
       "      <th>reuse_count</th>\n",
       "    </tr>\n",
       "  </thead>\n",
       "  <tbody>\n",
       "    <tr>\n",
       "      <th>16</th>\n",
       "      <td>C202</td>\n",
       "      <td>dragon2</td>\n",
       "      <td>active</td>\n",
       "      <td>None</td>\n",
       "      <td>NaN</td>\n",
       "      <td>[]</td>\n",
       "      <td>0</td>\n",
       "      <td>Dragon 2.0</td>\n",
       "      <td>Capsule used to qualify Dragon 2's environment...</td>\n",
       "      <td>0</td>\n",
       "    </tr>\n",
       "    <tr>\n",
       "      <th>17</th>\n",
       "      <td>C203</td>\n",
       "      <td>dragon2</td>\n",
       "      <td>active</td>\n",
       "      <td>None</td>\n",
       "      <td>NaN</td>\n",
       "      <td>[]</td>\n",
       "      <td>0</td>\n",
       "      <td>Dragon 2.0</td>\n",
       "      <td>Rumored to be used for Inflight Abort Test aft...</td>\n",
       "      <td>0</td>\n",
       "    </tr>\n",
       "    <tr>\n",
       "      <th>18</th>\n",
       "      <td>C204</td>\n",
       "      <td>dragon2</td>\n",
       "      <td>active</td>\n",
       "      <td>None</td>\n",
       "      <td>NaN</td>\n",
       "      <td>[]</td>\n",
       "      <td>0</td>\n",
       "      <td>Dragon 2.0</td>\n",
       "      <td>Currently in construction for use in DM-2</td>\n",
       "      <td>0</td>\n",
       "    </tr>\n",
       "  </tbody>\n",
       "</table>\n",
       "</div>"
      ],
      "text/plain": [
       "   capsule_serial capsule_id  status original_launch  original_launch_unix  \\\n",
       "16           C202    dragon2  active            None                   NaN   \n",
       "17           C203    dragon2  active            None                   NaN   \n",
       "18           C204    dragon2  active            None                   NaN   \n",
       "\n",
       "   missions  landings        type  \\\n",
       "16       []         0  Dragon 2.0   \n",
       "17       []         0  Dragon 2.0   \n",
       "18       []         0  Dragon 2.0   \n",
       "\n",
       "                                              details  reuse_count  \n",
       "16  Capsule used to qualify Dragon 2's environment...            0  \n",
       "17  Rumored to be used for Inflight Abort Test aft...            0  \n",
       "18          Currently in construction for use in DM-2            0  "
      ]
     },
     "execution_count": 6,
     "metadata": {},
     "output_type": "execute_result"
    }
   ],
   "source": [
    "with requests.Session() as session:\n",
    "    response = session.get(\"https://api.spacexdata.com/v3/capsules\")\n",
    "\n",
    "df = pd.DataFrame(response.json())\n",
    "\n",
    "no_launch_date_capsules = df[df['original_launch'].isna()]\n",
    "no_launch_date_capsules"
   ]
  }
 ],
 "metadata": {
  "kernelspec": {
   "display_name": "Python 3",
   "language": "python",
   "name": "python3"
  },
  "language_info": {
   "codemirror_mode": {
    "name": "ipython",
    "version": 3
   },
   "file_extension": ".py",
   "mimetype": "text/x-python",
   "name": "python",
   "nbconvert_exporter": "python",
   "pygments_lexer": "ipython3",
   "version": "3.13.2"
  }
 },
 "nbformat": 4,
 "nbformat_minor": 2
}
