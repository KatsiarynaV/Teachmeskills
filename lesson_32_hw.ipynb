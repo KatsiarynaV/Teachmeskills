{
 "cells": [
  {
   "cell_type": "code",
   "execution_count": 4,
   "id": "1a9876d0",
   "metadata": {},
   "outputs": [],
   "source": [
    "import clickhouse_connect\n",
    "from datetime import date\n",
    "\n",
    "master_client = clickhouse_connect.get_client(\n",
    "    host='localhost',  \n",
    "    port=8123,\n",
    "    username='default',\n",
    "    password='',\n",
    "    database='default'\n",
    ")\n",
    "\n",
    "shard1_client = clickhouse_connect.get_client(host='localhost', port=8124)\n",
    "shard2_client = clickhouse_connect.get_client(host='localhost', port=8125)\n"
   ]
  },
  {
   "cell_type": "code",
   "execution_count": 7,
   "id": "bf692aea",
   "metadata": {},
   "outputs": [],
   "source": [
    "# CREATE: Создание таблицы\n",
    "def create_tables():\n",
    "    master_client.command('''\n",
    "    CREATE TABLE IF NOT EXISTS `default`.users_local ON CLUSTER my_cluster (\n",
    "        id UInt32,\n",
    "        name String,\n",
    "        age UInt8,\n",
    "        date_registered Date\n",
    "    ) ENGINE = ReplicatedMergeTree('/clickhouse/tables/{shard}/users_local', '{replica}')\n",
    "    PARTITION BY toYYYYMM(date_registered)\n",
    "    order by id;\n",
    "    ''')\n",
    "\n",
    "\n",
    "    master_client.command('''\n",
    "    CREATE TABLE IF NOT EXISTS `default`.users_local_dist (\n",
    "        id UInt32,\n",
    "        name String,\n",
    "        age UInt8,\n",
    "        date_registered Date      \n",
    "    ) ENGINE = Distributed(my_cluster, default, users_local, rand());\n",
    "    ''')\n",
    "    print(\"Tables created across cluster\")"
   ]
  },
  {
   "cell_type": "code",
   "execution_count": null,
   "id": "13e8d91e",
   "metadata": {},
   "outputs": [],
   "source": [
    "# INSERT: Вставка данных\n",
    "def insert_user(user_id, name, age, date_reg):\n",
    "    data = [(user_id, name, age, date_reg)]\n",
    "    master_client.insert('users_local_dist', data, column_names=['id', 'name', 'age', 'date_registered'])\n",
    "    print(f\"Inserted user {name}\")\n"
   ]
  },
  {
   "cell_type": "code",
   "execution_count": null,
   "id": "73a8c8d9",
   "metadata": {},
   "outputs": [],
   "source": [
    "# SELECT: Получение данных\n",
    "def get_all_users():\n",
    "    result = master_client.query('SELECT * FROM users_local_dist ORDER BY id')\n",
    "    return result.result_rows"
   ]
  },
  {
   "cell_type": "code",
   "execution_count": null,
   "id": "d903cb10",
   "metadata": {},
   "outputs": [],
   "source": [
    "# UPDATE: Обновление данных\n",
    "def update_user_age(user_id, new_age):\n",
    "    query = f'''\n",
    "    ALTER TABLE users_local ON CLUSTER my_cluster\n",
    "    UPDATE age = {new_age}\n",
    "    WHERE id = {user_id}\n",
    "    '''\n",
    "    master_client.command(query)\n",
    "    print(f\"Updated age for user ID {user_id}\")"
   ]
  },
  {
   "cell_type": "code",
   "execution_count": 17,
   "id": "52f01e63",
   "metadata": {},
   "outputs": [],
   "source": [
    "# DELETE: Удаление данных\n",
    "def delete_user(user_id):\n",
    "    query = f'''\n",
    "    ALTER TABLE users_local ON CLUSTER my_cluster\n",
    "    DELETE WHERE id = {user_id}\n",
    "    '''\n",
    "    master_client.command(query)\n",
    "    print(f\"Deleted user ID {user_id}\")"
   ]
  },
  {
   "cell_type": "code",
   "execution_count": 8,
   "id": "0433d695",
   "metadata": {},
   "outputs": [
    {
     "name": "stdout",
     "output_type": "stream",
     "text": [
      "Tables created across cluster\n"
     ]
    }
   ],
   "source": [
    "create_tables()"
   ]
  },
  {
   "cell_type": "code",
   "execution_count": null,
   "id": "5b3ac499",
   "metadata": {},
   "outputs": [],
   "source": [
    "insert_user(1, 'Alice', 30, date(2025, 6, 1))\n",
    "insert_user(2, 'Bob', 27, date(2025, 6, 2))\n",
    "insert_user(3, 'Charlie', 22, date(2025, 5, 20))\n",
    "insert_user(4, 'Diana', 35, date(2025, 4, 15))\n",
    "insert_user(5, 'Ethan', 40, date(2025, 3, 5))\n",
    "insert_user(6, 'Fiona', 29, date(2025, 6, 3))\n",
    "insert_user(7, 'George', 31, date(2025, 2, 18))\n",
    "insert_user(8, 'Hannah', 26, date(2025, 1, 12))\n",
    "insert_user(9, 'Ivan', 38, date(2024, 12, 25))\n",
    "insert_user(10, 'Julia', 24, date(2025, 6, 4))"
   ]
  },
  {
   "cell_type": "code",
   "execution_count": 19,
   "id": "de236b35",
   "metadata": {},
   "outputs": [
    {
     "data": {
      "text/plain": [
       "[(1, 'Alice', 30, datetime.date(2025, 6, 1)),\n",
       " (2, 'Bob', 29, datetime.date(2025, 6, 2)),\n",
       " (3, 'Charlie', 22, datetime.date(2025, 5, 20)),\n",
       " (4, 'Diana', 35, datetime.date(2025, 4, 15)),\n",
       " (5, 'Ethan', 40, datetime.date(2025, 3, 5)),\n",
       " (6, 'Fiona', 29, datetime.date(2025, 6, 3)),\n",
       " (7, 'George', 31, datetime.date(2025, 2, 18)),\n",
       " (8, 'Hannah', 26, datetime.date(2025, 1, 12)),\n",
       " (9, 'Ivan', 38, datetime.date(2024, 12, 25))]"
      ]
     },
     "execution_count": 19,
     "metadata": {},
     "output_type": "execute_result"
    }
   ],
   "source": [
    "get_all_users()"
   ]
  },
  {
   "cell_type": "code",
   "execution_count": 15,
   "id": "9b9eb84b",
   "metadata": {},
   "outputs": [
    {
     "name": "stdout",
     "output_type": "stream",
     "text": [
      "Updated age for user ID 2\n"
     ]
    }
   ],
   "source": [
    "update_user_age(2, 29)"
   ]
  },
  {
   "cell_type": "code",
   "execution_count": 18,
   "id": "1a5b3550",
   "metadata": {},
   "outputs": [
    {
     "name": "stdout",
     "output_type": "stream",
     "text": [
      "Deleted user ID 10\n"
     ]
    }
   ],
   "source": [
    "delete_user(10)"
   ]
  }
 ],
 "metadata": {
  "kernelspec": {
   "display_name": "Python 3",
   "language": "python",
   "name": "python3"
  },
  "language_info": {
   "codemirror_mode": {
    "name": "ipython",
    "version": 3
   },
   "file_extension": ".py",
   "mimetype": "text/x-python",
   "name": "python",
   "nbconvert_exporter": "python",
   "pygments_lexer": "ipython3",
   "version": "3.13.2"
  }
 },
 "nbformat": 4,
 "nbformat_minor": 5
}
