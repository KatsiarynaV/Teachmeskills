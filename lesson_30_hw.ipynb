{
 "cells": [
  {
   "cell_type": "code",
   "execution_count": 1,
   "id": "09d963cc",
   "metadata": {},
   "outputs": [],
   "source": [
    "from neo4j import GraphDatabase\n",
    "\n",
    "uri = 'neo4j://localhost:7687'\n",
    "user = 'neo4j'\n",
    "password = 'password'\n",
    "\n",
    "driver = GraphDatabase.driver(uri, auth=(user, password))"
   ]
  },
  {
   "cell_type": "markdown",
   "id": "e110ca99",
   "metadata": {},
   "source": [
    "Домашнее задание 30 (необходимо сделать 3 задачи из 4) на Python:\n",
    "1. Найти самый старый фильм и самый новый фильм - вывести их названия по 1 шт (2 запроса)"
   ]
  },
  {
   "cell_type": "code",
   "execution_count": 6,
   "id": "695c18fa",
   "metadata": {},
   "outputs": [
    {
     "name": "stdout",
     "output_type": "stream",
     "text": [
      "[{\"One Flew Over the Cuckoo's Nest\": 1975}]\n",
      "[{'Cloud Atlas': 2012}]\n"
     ]
    }
   ],
   "source": [
    "def get_oldest_movie(tx):\n",
    "    result = tx.run(\"\"\"\n",
    "            MATCH (m:Movie)\n",
    "            RETURN m.title as oldest_movie, m.released\n",
    "            ORDER BY m.released ASC\n",
    "            LIMIT 1\n",
    "    \"\"\"\n",
    "    )\n",
    "    return [{record['oldest_movie']: record[\"m.released\"]} for record in result]\n",
    "\n",
    "\n",
    "\n",
    "def get_newest_movie(tx):\n",
    "    result = tx.run(\"\"\"\n",
    "            MATCH (m:Movie)\n",
    "            RETURN m.title as newest_movie, m.released\n",
    "            ORDER BY m.released DESC\n",
    "            LIMIT 1\n",
    "    \"\"\"\n",
    "    )\n",
    "    return [{record['newest_movie']: record[\"m.released\"]} for record in result]\n",
    "\n",
    "\n",
    "with driver.session() as session:\n",
    "    oldest_movie = session.execute_read(get_oldest_movie)\n",
    "    print(oldest_movie)\n",
    "\n",
    "with driver.session() as session:\n",
    "    newest_movie = session.execute_read(get_newest_movie)\n",
    "    print(newest_movie)"
   ]
  },
  {
   "cell_type": "markdown",
   "id": "cd6a686f",
   "metadata": {},
   "source": [
    "2. Получить среднее количество актёров на фильм "
   ]
  },
  {
   "cell_type": "code",
   "execution_count": 8,
   "id": "243c5a8c",
   "metadata": {},
   "outputs": [
    {
     "name": "stdout",
     "output_type": "stream",
     "text": [
      "4.526315789473684\n"
     ]
    }
   ],
   "source": [
    "def get_avg_actors_per_movie(tx):\n",
    "    result = tx.run(\"\"\"\n",
    "            MATCH (m:Movie)<-[:ACTED_IN]-(actor:Person)\n",
    "            WITH m, COUNT(actor) as actors_count\n",
    "            RETURN AVG(actors_count) as avg_actors_per_movie\n",
    "    \"\"\"\n",
    "    )\n",
    "    return result.single()[\"avg_actors_per_movie\"]\n",
    "\n",
    "\n",
    "with driver.session() as session:\n",
    "    avg_actors_per_movie = session.execute_read(get_avg_actors_per_movie)\n",
    "    print(avg_actors_per_movie)"
   ]
  },
  {
   "cell_type": "markdown",
   "id": "d2990f38",
   "metadata": {},
   "source": [
    "3. Группировка фильмов по годам и подсчёт количества фильмов в каждом году"
   ]
  },
  {
   "cell_type": "code",
   "execution_count": 9,
   "id": "2c0ff681",
   "metadata": {},
   "outputs": [
    {
     "name": "stdout",
     "output_type": "stream",
     "text": [
      "[{1975: 1}, {1986: 2}, {1990: 1}, {1992: 4}, {1993: 1}, {1995: 2}, {1996: 3}, {1997: 2}, {1998: 3}, {1999: 4}, {2000: 3}, {2003: 3}, {2004: 1}, {2006: 3}, {2007: 1}, {2008: 2}, {2009: 1}, {2012: 1}]\n"
     ]
    }
   ],
   "source": [
    "def get_movie_count_per_year(tx):\n",
    "    result = tx.run(\"\"\"\n",
    "            MATCH (m:Movie)\n",
    "            WITH m.released as year_released, COUNT(m) as movie_count\n",
    "            RETURN year_released, movie_count\n",
    "            ORDER BY year_released\n",
    "    \"\"\"\n",
    "    )\n",
    "    return [{record['year_released']: record[\"movie_count\"]} for record in result]\n",
    "\n",
    "\n",
    "with driver.session() as session:\n",
    "    movie_count_per_year = session.execute_read(get_movie_count_per_year)\n",
    "    print(movie_count_per_year)"
   ]
  },
  {
   "cell_type": "markdown",
   "id": "4295d624",
   "metadata": {},
   "source": [
    "4. Найти актёра с наибольшим промежутком между первым и последним фильмом"
   ]
  },
  {
   "cell_type": "code",
   "execution_count": 10,
   "id": "c1809ffc",
   "metadata": {},
   "outputs": [
    {
     "name": "stdout",
     "output_type": "stream",
     "text": [
      "[{'Jack Nicholson': 28}]\n"
     ]
    }
   ],
   "source": [
    "def get_actor_with_max_career_span(tx):\n",
    "    result = tx.run(\"\"\"\n",
    "            MATCH (actor:Person)-[:ACTED_IN]->(m:Movie)\n",
    "            WITH actor, MAX(m.released) as last_movie_year, MIN(m.released) as first_movie_year\n",
    "            RETURN actor.name as actor, (last_movie_year - first_movie_year) as career_span\n",
    "            ORDER BY career_span DESC\n",
    "            LIMIT 1\n",
    "    \"\"\"\n",
    "    )\n",
    "    return [{record['actor']: record[\"career_span\"]} for record in result]\n",
    "\n",
    "\n",
    "with driver.session() as session:\n",
    "    actor_with_max_career_span = session.execute_read(get_actor_with_max_career_span)\n",
    "    print(actor_with_max_career_span)"
   ]
  }
 ],
 "metadata": {
  "kernelspec": {
   "display_name": "Python 3",
   "language": "python",
   "name": "python3"
  },
  "language_info": {
   "codemirror_mode": {
    "name": "ipython",
    "version": 3
   },
   "file_extension": ".py",
   "mimetype": "text/x-python",
   "name": "python",
   "nbconvert_exporter": "python",
   "pygments_lexer": "ipython3",
   "version": "3.13.2"
  }
 },
 "nbformat": 4,
 "nbformat_minor": 5
}
